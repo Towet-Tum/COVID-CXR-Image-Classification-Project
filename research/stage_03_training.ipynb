{
 "cells": [
  {
   "cell_type": "code",
   "execution_count": 1,
   "metadata": {},
   "outputs": [
    {
     "data": {
      "text/plain": [
       "'/home/towet/Desktop/Visions/OpenProjects/COVID-CXR-Image-Classification-Project/research'"
      ]
     },
     "execution_count": 1,
     "metadata": {},
     "output_type": "execute_result"
    }
   ],
   "source": [
    "import os\n",
    "%pwd"
   ]
  },
  {
   "cell_type": "code",
   "execution_count": 2,
   "metadata": {},
   "outputs": [],
   "source": [
    "os.chdir('../')"
   ]
  },
  {
   "cell_type": "code",
   "execution_count": 3,
   "metadata": {},
   "outputs": [
    {
     "data": {
      "text/plain": [
       "'/home/towet/Desktop/Visions/OpenProjects/COVID-CXR-Image-Classification-Project'"
      ]
     },
     "execution_count": 3,
     "metadata": {},
     "output_type": "execute_result"
    }
   ],
   "source": [
    "%pwd"
   ]
  },
  {
   "cell_type": "code",
   "execution_count": 4,
   "metadata": {},
   "outputs": [],
   "source": [
    "from dataclasses import dataclass\n",
    "from pathlib import Path\n",
    "\n",
    "@dataclass(frozen=True)\n",
    "class TrainingConfig:\n",
    "    root_dir: Path \n",
    "    model_path: Path\n",
    "    epochs: int\n",
    "    imgsz: int\n",
    "    batch_size: int\n",
    "    lr: float\n",
    "    weights: str\n",
    "    num_class: int\n",
    "    include_top: bool"
   ]
  },
  {
   "cell_type": "code",
   "execution_count": 5,
   "metadata": {},
   "outputs": [],
   "source": [
    "from cnnClassifier.constants import *\n",
    "from cnnClassifier.utils.common import read_yaml, create_directories"
   ]
  },
  {
   "cell_type": "code",
   "execution_count": 16,
   "metadata": {},
   "outputs": [],
   "source": [
    "class ConfigurationManager:\n",
    "    def __init__(self,\n",
    "                 config_file_path = CONFIG_FILE_PATH,\n",
    "                 params_file_path = PARAMS_FILE_PATH):\n",
    "        self.config = read_yaml(config_file_path)\n",
    "        self.params = read_yaml(params_file_path)\n",
    "        \n",
    "        create_directories([self.config.artifacts_root])\n",
    "\n",
    "    def get__training_config(self) -> TrainingConfig:\n",
    "        config = self.config.training \n",
    "        params = self.params\n",
    "        create_directories([config.root_dir])\n",
    "        training_config = TrainingConfig(\n",
    "            root_dir = config.root_dir,\n",
    "            epochs = params.EPOCHS,\n",
    "            imgsz=params.IMG_SZ,\n",
    "            include_top=params.INCLUDE_TOP,\n",
    "            batch_size=params.BATCH_SIZE,\n",
    "            weights=params.WEIGHTS,\n",
    "            lr=params.LEARNING_RATE,\n",
    "            model_path=Path(config.trained_model_path),\n",
    "            num_class=params.CLASSES\n",
    "        )\n",
    "        return training_config"
   ]
  },
  {
   "cell_type": "code",
   "execution_count": 7,
   "metadata": {},
   "outputs": [
    {
     "name": "stderr",
     "output_type": "stream",
     "text": [
      "2024-01-24 12:55:57.369944: I tensorflow/tsl/cuda/cudart_stub.cc:28] Could not find cuda drivers on your machine, GPU will not be used.\n",
      "2024-01-24 12:56:01.860495: I tensorflow/tsl/cuda/cudart_stub.cc:28] Could not find cuda drivers on your machine, GPU will not be used.\n",
      "2024-01-24 12:56:10.244914: W tensorflow/compiler/tf2tensorrt/utils/py_utils.cc:38] TF-TRT Warning: Could not find TensorRT\n"
     ]
    }
   ],
   "source": [
    "import tensorflow as tf\n",
    "from tensorflow.keras.preprocessing.image import ImageDataGenerator"
   ]
  },
  {
   "cell_type": "code",
   "execution_count": 17,
   "metadata": {},
   "outputs": [],
   "source": [
    "class Training:\n",
    "    def __init__(self, config: TrainingConfig):\n",
    "        self.config = config \n",
    "\n",
    "    def train_val_gen(self):\n",
    "        # Set your dataset directory\n",
    "        train_dir = os.path.join(\"artifacts\", \"data_preprocessing\", \"split_dataset\", \"train\")\n",
    "        val_dir = os.path.join(\"artifacts\", \"data_preprocessing\", \"split_dataset\", \"val\")\n",
    "        \n",
    "\n",
    "        # Use ImageDataGenerator for data augmentation and normalization\n",
    "        train_datagen = ImageDataGenerator(rescale=1./255, shear_range=0.2, \n",
    "                                           zoom_range=0.2, horizontal_flip=True)\n",
    "        val_datagen = ImageDataGenerator(rescale=1./255)\n",
    "\n",
    "        # Create data generators\n",
    "        train_generator = train_datagen.flow_from_directory(train_dir, target_size=(self.config.imgsz, self.config.imgsz),\n",
    "                                                            batch_size=self.config.batch_size, class_mode='categorical')\n",
    "\n",
    "        val_generator = val_datagen.flow_from_directory(val_dir, target_size=(self.config.imgsz, self.config.imgsz),\n",
    "                                                        batch_size=self.config.batch_size, class_mode='categorical')\n",
    "\n",
    "        # Set the number of training steps\n",
    "        return train_generator, val_generator\n",
    "    \n",
    "    def train(self):\n",
    "        pretrained_model = tf.keras.applications.VGG16(weights=self.config.weights, \n",
    "                                                       include_top=self.config.include_top, \n",
    "                                                       input_shape=[self.config.imgsz, self.config.imgsz, 3])\n",
    "        pretrained_model.trainable=False\n",
    "        vgg16_model = tf.keras.Sequential([\n",
    "            pretrained_model,\n",
    "            tf.keras.layers.GlobalAveragePooling2D(),\n",
    "            tf.keras.layers.Dense(64, activation='relu'),\n",
    "            tf.keras.layers.Dense(3, activation='softmax')\n",
    "        ])\n",
    "\n",
    "        train_generator, val_generator = self.train_val_gen()\n",
    "    \n",
    "        steps_per_epoch = train_generator.samples // self.config.batch_size\n",
    "        validation_steps = val_generator.samples // self.config.batch_size\n",
    "\n",
    "        checkpoint_callback = tf.keras.callbacks.ModelCheckpoint(self.config.model_path, save_best_only=True)\n",
    "\n",
    "        early_stopping_callback = tf.keras.callbacks.EarlyStopping(\n",
    "            monitor=\"val_accuracy\",patience=5, restore_best_weights=True\n",
    "        )\n",
    "\n",
    "        vgg16_model.compile(optimizer='adam',\n",
    "              loss='categorical_crossentropy',\n",
    "              metrics=['accuracy'])\n",
    "        history = vgg16_model.fit(train_generator, steps_per_epoch=steps_per_epoch, epochs=self.config.epochs,\n",
    "                            validation_data=val_generator, validation_steps=validation_steps,callbacks=[checkpoint_callback,early_stopping_callback])"
   ]
  },
  {
   "cell_type": "code",
   "execution_count": 18,
   "metadata": {},
   "outputs": [
    {
     "name": "stdout",
     "output_type": "stream",
     "text": [
      "[2024-01-24 13:15:03,408: INFO: common: yaml file: config/config.yaml loaded successfully]\n",
      "[2024-01-24 13:15:03,414: INFO: common: yaml file: params.yaml loaded successfully]\n",
      "[2024-01-24 13:15:03,416: INFO: common: created directory at: artifacts]\n",
      "[2024-01-24 13:15:03,419: INFO: common: created directory at: artifacts/training]\n"
     ]
    },
    {
     "name": "stdout",
     "output_type": "stream",
     "text": [
      "Found 1188 images belonging to 3 classes.\n",
      "Found 342 images belonging to 3 classes.\n"
     ]
    },
    {
     "name": "stderr",
     "output_type": "stream",
     "text": [
      "2024-01-24 13:15:08.034978: I tensorflow/core/common_runtime/executor.cc:1197] [/device:CPU:0] (DEBUG INFO) Executor start aborting (this does not indicate an error and you can ignore this message): INVALID_ARGUMENT: You must feed a value for placeholder tensor 'Placeholder/_0' with dtype int32\n",
      "\t [[{{node Placeholder/_0}}]]\n",
      "2024-01-24 13:15:11.216860: W tensorflow/tsl/framework/cpu_allocator_impl.cc:83] Allocation of 205520896 exceeds 10% of free system memory.\n",
      "2024-01-24 13:15:12.015495: W tensorflow/tsl/framework/cpu_allocator_impl.cc:83] Allocation of 205520896 exceeds 10% of free system memory.\n",
      "2024-01-24 13:15:13.903287: W tensorflow/tsl/framework/cpu_allocator_impl.cc:83] Allocation of 51380224 exceeds 10% of free system memory.\n",
      "2024-01-24 13:15:13.963301: W tensorflow/tsl/framework/cpu_allocator_impl.cc:83] Allocation of 102760448 exceeds 10% of free system memory.\n",
      "2024-01-24 13:15:14.864643: W tensorflow/tsl/framework/cpu_allocator_impl.cc:83] Allocation of 102760448 exceeds 10% of free system memory.\n"
     ]
    },
    {
     "name": "stdout",
     "output_type": "stream",
     "text": [
      "74/74 [==============================] - ETA: 0s - loss: 0.8957 - accuracy: 0.6195 "
     ]
    },
    {
     "name": "stderr",
     "output_type": "stream",
     "text": [
      "2024-01-24 13:38:36.744999: I tensorflow/core/common_runtime/executor.cc:1197] [/device:CPU:0] (DEBUG INFO) Executor start aborting (this does not indicate an error and you can ignore this message): INVALID_ARGUMENT: You must feed a value for placeholder tensor 'Placeholder/_0' with dtype int32\n",
      "\t [[{{node Placeholder/_0}}]]\n"
     ]
    },
    {
     "name": "stdout",
     "output_type": "stream",
     "text": [
      "74/74 [==============================] - 1772s 24s/step - loss: 0.8957 - accuracy: 0.6195 - val_loss: 0.7164 - val_accuracy: 0.7649\n"
     ]
    }
   ],
   "source": [
    "try:\n",
    "    config = ConfigurationManager()\n",
    "    train_config = config.get__training_config()\n",
    "    training = Training(config=train_config)\n",
    "    training.train()\n",
    "except Exception as e:\n",
    "    raise e"
   ]
  }
 ],
 "metadata": {
  "kernelspec": {
   "display_name": "covid",
   "language": "python",
   "name": "python3"
  },
  "language_info": {
   "codemirror_mode": {
    "name": "ipython",
    "version": 3
   },
   "file_extension": ".py",
   "mimetype": "text/x-python",
   "name": "python",
   "nbconvert_exporter": "python",
   "pygments_lexer": "ipython3",
   "version": "3.10.12"
  }
 },
 "nbformat": 4,
 "nbformat_minor": 2
}
